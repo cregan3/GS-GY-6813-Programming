{
  "nbformat": 4,
  "nbformat_minor": 0,
  "metadata": {
    "colab": {
      "provenance": [],
      "toc_visible": true,
      "include_colab_link": true
    },
    "kernelspec": {
      "name": "python3",
      "display_name": "Python 3"
    },
    "language_info": {
      "name": "python"
    }
  },
  "cells": [
    {
      "cell_type": "markdown",
      "metadata": {
        "id": "view-in-github",
        "colab_type": "text"
      },
      "source": [
        "<a href=\"https://colab.research.google.com/gist/cregan3/03554893aa9c1b2af5348b9a7a062044/chris-repy-google-colab.ipynb\" target=\"_parent\"><img src=\"https://colab.research.google.com/assets/colab-badge.svg\" alt=\"Open In Colab\"/></a>"
      ]
    },
    {
      "cell_type": "markdown",
      "source": [
        "### Initialization Commands\n",
        "Run this block **once** when you first get started"
      ],
      "metadata": {
        "id": "sUK7wu--VAyX"
      }
    },
    {
      "cell_type": "code",
      "execution_count": null,
      "metadata": {
        "id": "c6qUZqG0Tw5n",
        "colab": {
          "base_uri": "https://localhost:8080/"
        },
        "outputId": "62e9c224-966a-49fe-ec24-b45d90155ea5"
      },
      "outputs": [
        {
          "output_type": "stream",
          "name": "stdout",
          "text": [
            "/content/repy_v2/scripts\n",
            "/content/repy_v2/RUNNABLE\n"
          ]
        }
      ],
      "source": [
        "!git clone https://github.com/kcg295/repy_v2 &> /dev/null\n",
        "%cd /content/repy_v2/scripts\n",
        "!python3 initialize.py &> /dev/null\n",
        "!python3 build.py &> /dev/null\n",
        "%cd ../RUNNABLE/\n",
        "!wget -O /content/repy_v2/RUNNABLE/myapplication.r2py https://static.us.edusercontent.com/files/cDshGjQKDAvNdu8D4maBH44A &> /dev/null\n",
        "!wget -O /content/repy_v2/RUNNABLE/gettingstartedmonitor.r2py https://static.us.edusercontent.com/files/Gj5dNy8S9d2jui8e1pEulioT &> /dev/null\n",
        "!wget -O /content/repy_v2/RUNNABLE/story.txt https://static.us.edusercontent.com/files/RffcT5CCw1UGS2ZcycO1MOPj &> /dev/null\n",
        "!wget -O /content/repy_v2/RUNNABLE/reference_monitor_netid.r2py https://tinyurl.com/2p8temtu &> /dev/null\n",
        "\n",
        "#a utility to convert the story.txt file to the unix format\n",
        "!apt-get install -y dos2unix &> /dev/null"
      ]
    },
    {
      "cell_type": "markdown",
      "source": [
        "### Connect your Google Drive\n",
        "Run this block **once** if you'd like to be able to copy/write to your google drive and it'll prompt for authentication and then mount your google drive in the content folder."
      ],
      "metadata": {
        "id": "NwufqQ8yV__2"
      }
    },
    {
      "cell_type": "code",
      "source": [
        "from google.colab import drive\n",
        "drive.mount('/content/drive')"
      ],
      "metadata": {
        "id": "QUwNeZtUV_Nd",
        "colab": {
          "base_uri": "https://localhost:8080/"
        },
        "outputId": "8bf944c7-e209-4007-df20-40a7d6f7973c"
      },
      "execution_count": null,
      "outputs": [
        {
          "output_type": "stream",
          "name": "stdout",
          "text": [
            "Mounted at /content/drive\n"
          ]
        }
      ]
    },
    {
      "cell_type": "markdown",
      "source": [
        "### Execution Block\n",
        "Run this block anytime you want to to test your code / execute in a terminal"
      ],
      "metadata": {
        "id": "bznKH4xDUQtY"
      }
    },
    {
      "cell_type": "code",
      "source": [
        "!python3 repy.py encasementlib.r2py reference_monitor_netid.r2py attackcase1.r2py"
      ],
      "metadata": {
        "id": "tINXgM1eceuU",
        "colab": {
          "base_uri": "https://localhost:8080/"
        },
        "outputId": "2d298c88-af0c-46e0-814f-77079a6c728d"
      },
      "execution_count": null,
      "outputs": [
        {
          "output_type": "stream",
          "name": "stdout",
          "text": [
            "Traceback (most recent call last):\n",
            "  File \"/content/repy_v2/RUNNABLE/repy.py\", line 56, in <module>\n",
            "    import safe\n",
            "  File \"/content/repy_v2/RUNNABLE/safe.py\", line 95, in <module>\n",
            "    from collections import MutableMapping as DictMixin\n",
            "ImportError: cannot import name 'MutableMapping' from 'collections' (/usr/lib/python3.10/collections/__init__.py)\n"
          ]
        }
      ]
    },
    {
      "cell_type": "markdown",
      "source": [
        "### Reset the Story.txt\n",
        "Run this to reset the story.txt file back to original (if you're working on Part 0)"
      ],
      "metadata": {
        "id": "ekfTxoAIcrFT"
      }
    },
    {
      "cell_type": "code",
      "source": [
        "!wget -O /content/repy_v2/RUNNABLE/story.txt https://static.us.edusercontent.com/files/RffcT5CCw1UGS2ZcycO1MOPj &> /dev/null\n",
        "!dos2unix /content/repy_v2/RUNNABLE/story.txt"
      ],
      "metadata": {
        "id": "ZNbe7JGQUP9g",
        "colab": {
          "base_uri": "https://localhost:8080/"
        },
        "outputId": "a1fe65c7-d8e1-4f30-fd34-793e1241e804"
      },
      "execution_count": null,
      "outputs": [
        {
          "output_type": "stream",
          "name": "stdout",
          "text": [
            "dos2unix: converting file /content/repy_v2/RUNNABLE/story.txt to Unix format...\n"
          ]
        }
      ]
    },
    {
      "cell_type": "markdown",
      "source": [
        "### Save Your Code\n",
        "Run this command (or something similar) to copy your code from the RUNNABLE folder back to google drive"
      ],
      "metadata": {
        "id": "buVJJtQIWxZQ"
      }
    },
    {
      "cell_type": "code",
      "source": [
        "!cp '/content/repy_v2/RUNNABLE/myapplication.r2py' '/content/drive/MyDrive/myaplication.r2py'"
      ],
      "metadata": {
        "id": "yZeP7oqvWxEO"
      },
      "execution_count": null,
      "outputs": []
    },
    {
      "cell_type": "code",
      "source": [
        "!cp '/content/repy_v2/RUNNABLE/reference_monitor_netid.r2py' '/content/drive/MyDrive/my_referencemonitor.r2py'"
      ],
      "metadata": {
        "id": "7E11PRSPgZpB"
      },
      "execution_count": null,
      "outputs": []
    }
  ]
}