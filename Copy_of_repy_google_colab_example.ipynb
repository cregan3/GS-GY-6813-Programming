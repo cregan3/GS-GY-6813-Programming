{
  "nbformat": 4,
  "nbformat_minor": 0,
  "metadata": {
    "colab": {
      "provenance": [],
      "include_colab_link": true
    },
    "kernelspec": {
      "name": "python3",
      "display_name": "Python 3"
    },
    "language_info": {
      "name": "python"
    }
  },
  "cells": [
    {
      "cell_type": "markdown",
      "metadata": {
        "id": "view-in-github",
        "colab_type": "text"
      },
      "source": [
        "<a href=\"https://colab.research.google.com/github/cregan3/GS-GY-6813-Programming/blob/main/Copy_of_repy_google_colab_example.ipynb\" target=\"_parent\"><img src=\"https://colab.research.google.com/assets/colab-badge.svg\" alt=\"Open In Colab\"/></a>"
      ]
    },
    {
      "cell_type": "markdown",
      "source": [
        "### Initialization Commands\n",
        "Run this block **once** when you first get started"
      ],
      "metadata": {
        "id": "sUK7wu--VAyX"
      }
    },
    {
      "cell_type": "code",
      "execution_count": 1,
      "metadata": {
        "id": "c6qUZqG0Tw5n",
        "colab": {
          "base_uri": "https://localhost:8080/"
        },
        "outputId": "c9215686-237d-43ab-deb7-ec4a5f092312"
      },
      "outputs": [
        {
          "output_type": "stream",
          "name": "stdout",
          "text": [
            "/content/repy_v2/scripts\n",
            "Requirement already satisfied: six in /usr/local/lib/python3.10/dist-packages (1.16.0)\n",
            "/content/repy_v2/RUNNABLE\n"
          ]
        }
      ],
      "source": [
        "!git clone https://github.com/kcg295/repy_v2 &> /dev/null\n",
        "%cd /content/repy_v2/scripts\n",
        "!pip install six\n",
        "!python3 initialize.py &> /dev/null\n",
        "!python3 build.py &> /dev/null\n",
        "%cd ../RUNNABLE/\n",
        "!wget -O /content/repy_v2/RUNNABLE/myapplication.r2py https://static.us.edusercontent.com/files/cDshGjQKDAvNdu8D4maBH44A &> /dev/null\n",
        "!wget -O /content/repy_v2/RUNNABLE/gettingstartedmonitor.r2py https://static.us.edusercontent.com/files/Gj5dNy8S9d2jui8e1pEulioT &> /dev/null\n",
        "!wget -O /content/repy_v2/RUNNABLE/story.txt https://static.us.edusercontent.com/files/RffcT5CCw1UGS2ZcycO1MOPj &> /dev/null\n",
        "!wget -O /content/repy_v2/RUNNABLE/reference_monitor_netid.r2py https://tinyurl.com/2p8temtu &> /dev/null\n",
        "\n",
        "#a utility to convert the story.txt file to the unix format\n",
        "!apt-get install -y dos2unix &> /dev/null"
      ]
    },
    {
      "cell_type": "markdown",
      "source": [
        "### Connect your Google Drive\n",
        "Run this block **once** if you'd like to be able to copy/write to your google drive and it'll prompt for authentication and then mount your google drive in the content folder."
      ],
      "metadata": {
        "id": "NwufqQ8yV__2"
      }
    },
    {
      "cell_type": "code",
      "source": [
        "from google.colab import drive\n",
        "drive.mount('/content/drive')"
      ],
      "metadata": {
        "id": "QUwNeZtUV_Nd",
        "colab": {
          "base_uri": "https://localhost:8080/"
        },
        "outputId": "473eecc5-fb0a-46a2-8133-f5ed00b09277"
      },
      "execution_count": 24,
      "outputs": [
        {
          "output_type": "stream",
          "name": "stdout",
          "text": [
            "Mounted at /content/drive\n"
          ]
        }
      ]
    },
    {
      "cell_type": "markdown",
      "source": [
        "### Execution Block\n",
        "Run this block anytime you want to to test your code / execute in a terminal"
      ],
      "metadata": {
        "id": "bznKH4xDUQtY"
      }
    },
    {
      "cell_type": "code",
      "source": [
        "!pip install six\n",
        "!python3 repy.py encasementlib.r2py reference_monitor_netid.r2py attackcase1.r2py"
      ],
      "metadata": {
        "id": "tINXgM1eceuU",
        "colab": {
          "base_uri": "https://localhost:8080/"
        },
        "outputId": "75b979f2-43b3-413e-9f75-d8b20bd9fa99"
      },
      "execution_count": 4,
      "outputs": [
        {
          "output_type": "stream",
          "name": "stdout",
          "text": [
            "Requirement already satisfied: six in /usr/local/lib/python3.10/dist-packages (1.16.0)\n",
            "---\n",
            "Uncaught exception!\n",
            " ---\n",
            "Following is a full traceback, and a user traceback.\n",
            "The user traceback excludes non-user modules. The most recent call is displayed last.\n",
            "\n",
            "Full debugging traceback:\n",
            "  \"/content/repy_v2/RUNNABLE/repy.py\", line 438, in main\n",
            "  \"/content/repy_v2/RUNNABLE/virtual_namespace.py\", line 112, in evaluate\n",
            "  \"/content/repy_v2/RUNNABLE/safe.py\", line 583, in safe_run\n",
            "  \"encasementlib.r2py\", line 244, in <module>\n",
            "  \"encasementlib.r2py\", line 229, in secure_dispatch\n",
            "  \"/content/repy_v2/RUNNABLE/namespace.py\", line 797, in __do_func_call\n",
            "  \"/content/repy_v2/RUNNABLE/namespace.py\", line 1063, in wrapped_function\n",
            "  \"/content/repy_v2/RUNNABLE/virtual_namespace.py\", line 112, in evaluate\n",
            "  \"/content/repy_v2/RUNNABLE/safe.py\", line 583, in safe_run\n",
            "  \"reference_monitor_netid.r2py\", line 68, in <module>\n",
            "  \"encasementlib.r2py\", line 179, in _secure_dispatch_closure\n",
            "  \"encasementlib.r2py\", line 223, in secure_dispatch\n",
            "  \"encasementlib.r2py\", line 75, in _layer_code\n",
            "\n",
            "User traceback:\n",
            "  \"encasementlib.r2py\", line 244, in <module>\n",
            "  \"encasementlib.r2py\", line 229, in secure_dispatch\n",
            "  \"reference_monitor_netid.r2py\", line 68, in <module>\n",
            "  \"encasementlib.r2py\", line 179, in _secure_dispatch_closure\n",
            "  \"encasementlib.r2py\", line 223, in secure_dispatch\n",
            "  \"encasementlib.r2py\", line 75, in _layer_code\n",
            "\n",
            "Exception (with class 'exception_hierarchy.FileNotFoundError'): Cannot load security layer 'attackcase1.r2py'. File not found.\n",
            "---\n",
            "^C\n"
          ]
        }
      ]
    },
    {
      "cell_type": "markdown",
      "source": [
        "### Reset the Story.txt\n",
        "Run this to reset the story.txt file back to original (if you're working on Part 0)"
      ],
      "metadata": {
        "id": "ekfTxoAIcrFT"
      }
    },
    {
      "cell_type": "code",
      "source": [
        "!wget -O /content/repy_v2/RUNNABLE/story.txt https://static.us.edusercontent.com/files/RffcT5CCw1UGS2ZcycO1MOPj &> /dev/null\n",
        "!dos2unix /content/repy_v2/RUNNABLE/story.txt"
      ],
      "metadata": {
        "id": "ZNbe7JGQUP9g",
        "colab": {
          "base_uri": "https://localhost:8080/"
        },
        "outputId": "a65469af-ee0e-46e8-ac79-5189fad8418d"
      },
      "execution_count": 34,
      "outputs": [
        {
          "output_type": "stream",
          "name": "stdout",
          "text": [
            "dos2unix: converting file /content/repy_v2/RUNNABLE/story.txt to Unix format...\n"
          ]
        }
      ]
    },
    {
      "cell_type": "markdown",
      "source": [
        "### Save Your Code\n",
        "Run this command (or something similar) to copy your code from the RUNNABLE folder back to google drive"
      ],
      "metadata": {
        "id": "buVJJtQIWxZQ"
      }
    },
    {
      "cell_type": "code",
      "source": [
        "!cp '/content/repy_v2/RUNNABLE/myapplication.r2py' '/content/drive/MyDrive/myaplication.r2py'"
      ],
      "metadata": {
        "id": "yZeP7oqvWxEO"
      },
      "execution_count": 25,
      "outputs": []
    },
    {
      "cell_type": "code",
      "source": [
        "!cp '/content/repy_v2/RUNNABLE/reference_monitor_netid.r2py' '/content/drive/MyDrive/my_referencemonitor.r2py'"
      ],
      "metadata": {
        "id": "7E11PRSPgZpB"
      },
      "execution_count": 26,
      "outputs": []
    },
    {
      "cell_type": "code",
      "source": [
        "from collections.abc import MutableMapping\n",
        "!python3 repy.py encasementlib.r2py gettingstartedmonitor.r2py myapplication.r2py"
      ],
      "metadata": {
        "id": "4c9gWeohEB-4",
        "outputId": "e3bac877-040c-45b9-c0da-1ea9097b47d9",
        "colab": {
          "base_uri": "https://localhost:8080/"
        }
      },
      "execution_count": 35,
      "outputs": [
        {
          "output_type": "stream",
          "name": "stdout",
          "text": [
            "Hello World!\n",
            "M\n",
            "458\n",
            ".\n",
            "^C\n"
          ]
        }
      ]
    }
  ]
}